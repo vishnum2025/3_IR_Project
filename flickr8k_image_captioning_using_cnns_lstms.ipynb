{
  "metadata": {
    "kernelspec": {
      "display_name": "Python 3",
      "name": "python3"
    },
    "language_info": {
      "name": "python",
      "version": "3.7.12",
      "mimetype": "text/x-python",
      "codemirror_mode": {
        "name": "ipython",
        "version": 3
      },
      "pygments_lexer": "ipython3",
      "nbconvert_exporter": "python",
      "file_extension": ".py"
    },
    "colab": {
      "provenance": []
    }
  },
  "nbformat_minor": 0,
  "nbformat": 4,
  "cells": [
    {
      "cell_type": "code",
      "source": [
        "from google.colab import drive\n",
        "drive.mount('/content/drive')"
      ],
      "metadata": {
        "colab": {
          "base_uri": "https://localhost:8080/"
        },
        "id": "7IbJAdQ64IV3",
        "outputId": "e8a1901a-e79a-453b-d83e-708c6673feb1"
      },
      "execution_count": null,
      "outputs": [
        {
          "output_type": "stream",
          "name": "stdout",
          "text": [
            "Drive already mounted at /content/drive; to attempt to forcibly remount, call drive.mount(\"/content/drive\", force_remount=True).\n"
          ]
        }
      ]
    },
    {
      "cell_type": "code",
      "source": [
        "import numpy as np\n",
        "import pandas as pd\n",
        "import os\n",
        "import tensorflow as tf\n",
        "from tqdm import tqdm\n",
        "from tensorflow.keras.preprocessing.image import ImageDataGenerator, load_img, img_to_array\n",
        "from tensorflow.keras.preprocessing.text import Tokenizer\n",
        "from tensorflow.keras.preprocessing.sequence import pad_sequences\n",
        "from tensorflow.keras.utils import Sequence\n",
        "from tensorflow.keras.utils import to_categorical\n",
        "from tensorflow.keras.models import Sequential, Model\n",
        "from tensorflow.keras.layers import Conv2D, MaxPooling2D, GlobalAveragePooling2D, Activation, Dropout, Flatten, Dense, Input, Layer\n",
        "from tensorflow.keras.layers import Embedding, LSTM, add, Concatenate, Reshape, concatenate, Bidirectional\n",
        "from tensorflow.keras.applications import VGG16, ResNet50, DenseNet201\n",
        "from tensorflow.keras.optimizers import Adam\n",
        "from tensorflow.keras.callbacks import ModelCheckpoint, EarlyStopping, ReduceLROnPlateau\n",
        "import warnings\n",
        "import matplotlib.pyplot as plt\n",
        "import seaborn as sns\n",
        "from textwrap import wrap\n",
        "\n",
        "plt.rcParams['font.size'] = 12\n",
        "sns.set_style(\"dark\")\n",
        "warnings.filterwarnings('ignore')"
      ],
      "metadata": {
        "_uuid": "8f2839f25d086af736a60e9eeb907d3b93b6e0e5",
        "_cell_guid": "b1076dfc-b9ad-4769-8c92-a6c4dae69d19",
        "execution": {
          "iopub.status.busy": "2022-08-23T11:23:20.240075Z",
          "iopub.execute_input": "2022-08-23T11:23:20.240687Z",
          "iopub.status.idle": "2022-08-23T11:23:27.839141Z",
          "shell.execute_reply.started": "2022-08-23T11:23:20.240606Z",
          "shell.execute_reply": "2022-08-23T11:23:27.837973Z"
        },
        "trusted": true,
        "id": "cA76bqlr38a2"
      },
      "execution_count": 1,
      "outputs": []
    },
    {
      "cell_type": "markdown",
      "source": [
        "# **Image Captioning**\n",
        "\n"
      ],
      "metadata": {
        "id": "iVZcbJ7X38a3"
      }
    },
    {
      "cell_type": "code",
      "source": [
        "image_path = '/content/drive/MyDrive/IR_project/flickr8k/Images'"
      ],
      "metadata": {
        "execution": {
          "iopub.status.busy": "2022-08-23T11:23:27.841813Z",
          "iopub.execute_input": "2022-08-23T11:23:27.842707Z",
          "iopub.status.idle": "2022-08-23T11:23:27.846691Z",
          "shell.execute_reply.started": "2022-08-23T11:23:27.842668Z",
          "shell.execute_reply": "2022-08-23T11:23:27.845918Z"
        },
        "trusted": true,
        "id": "d60Pj_o838a4"
      },
      "execution_count": 2,
      "outputs": []
    },
    {
      "cell_type": "code",
      "source": [
        "data = pd.read_csv('/content/drive/MyDrive/IR_project/flickr8k/captions.txt')\n",
        "data.head()"
      ],
      "metadata": {
        "execution": {
          "iopub.status.busy": "2022-08-23T11:23:27.848057Z",
          "iopub.execute_input": "2022-08-23T11:23:27.848663Z",
          "iopub.status.idle": "2022-08-23T11:23:27.966722Z",
          "shell.execute_reply.started": "2022-08-23T11:23:27.848617Z",
          "shell.execute_reply": "2022-08-23T11:23:27.965974Z"
        },
        "trusted": true,
        "colab": {
          "base_uri": "https://localhost:8080/",
          "height": 206
        },
        "id": "9C9i5Ozg38a4",
        "outputId": "6ce1a14f-9b27-4377-cdfe-4ebb0b3b9093"
      },
      "execution_count": 3,
      "outputs": [
        {
          "output_type": "execute_result",
          "data": {
            "text/plain": [
              "                       image  \\\n",
              "0  1000268201_693b08cb0e.jpg   \n",
              "1  1000268201_693b08cb0e.jpg   \n",
              "2  1000268201_693b08cb0e.jpg   \n",
              "3  1000268201_693b08cb0e.jpg   \n",
              "4  1000268201_693b08cb0e.jpg   \n",
              "\n",
              "                                             caption  \n",
              "0  A child in a pink dress is climbing up a set o...  \n",
              "1              A girl going into a wooden building .  \n",
              "2   A little girl climbing into a wooden playhouse .  \n",
              "3  A little girl climbing the stairs to her playh...  \n",
              "4  A little girl in a pink dress going into a woo...  "
            ],
            "text/html": [
              "\n",
              "  <div id=\"df-f043ec5c-7568-43b9-804c-e49fb078ffc8\" class=\"colab-df-container\">\n",
              "    <div>\n",
              "<style scoped>\n",
              "    .dataframe tbody tr th:only-of-type {\n",
              "        vertical-align: middle;\n",
              "    }\n",
              "\n",
              "    .dataframe tbody tr th {\n",
              "        vertical-align: top;\n",
              "    }\n",
              "\n",
              "    .dataframe thead th {\n",
              "        text-align: right;\n",
              "    }\n",
              "</style>\n",
              "<table border=\"1\" class=\"dataframe\">\n",
              "  <thead>\n",
              "    <tr style=\"text-align: right;\">\n",
              "      <th></th>\n",
              "      <th>image</th>\n",
              "      <th>caption</th>\n",
              "    </tr>\n",
              "  </thead>\n",
              "  <tbody>\n",
              "    <tr>\n",
              "      <th>0</th>\n",
              "      <td>1000268201_693b08cb0e.jpg</td>\n",
              "      <td>A child in a pink dress is climbing up a set o...</td>\n",
              "    </tr>\n",
              "    <tr>\n",
              "      <th>1</th>\n",
              "      <td>1000268201_693b08cb0e.jpg</td>\n",
              "      <td>A girl going into a wooden building .</td>\n",
              "    </tr>\n",
              "    <tr>\n",
              "      <th>2</th>\n",
              "      <td>1000268201_693b08cb0e.jpg</td>\n",
              "      <td>A little girl climbing into a wooden playhouse .</td>\n",
              "    </tr>\n",
              "    <tr>\n",
              "      <th>3</th>\n",
              "      <td>1000268201_693b08cb0e.jpg</td>\n",
              "      <td>A little girl climbing the stairs to her playh...</td>\n",
              "    </tr>\n",
              "    <tr>\n",
              "      <th>4</th>\n",
              "      <td>1000268201_693b08cb0e.jpg</td>\n",
              "      <td>A little girl in a pink dress going into a woo...</td>\n",
              "    </tr>\n",
              "  </tbody>\n",
              "</table>\n",
              "</div>\n",
              "    <div class=\"colab-df-buttons\">\n",
              "\n",
              "  <div class=\"colab-df-container\">\n",
              "    <button class=\"colab-df-convert\" onclick=\"convertToInteractive('df-f043ec5c-7568-43b9-804c-e49fb078ffc8')\"\n",
              "            title=\"Convert this dataframe to an interactive table.\"\n",
              "            style=\"display:none;\">\n",
              "\n",
              "  <svg xmlns=\"http://www.w3.org/2000/svg\" height=\"24px\" viewBox=\"0 -960 960 960\">\n",
              "    <path d=\"M120-120v-720h720v720H120Zm60-500h600v-160H180v160Zm220 220h160v-160H400v160Zm0 220h160v-160H400v160ZM180-400h160v-160H180v160Zm440 0h160v-160H620v160ZM180-180h160v-160H180v160Zm440 0h160v-160H620v160Z\"/>\n",
              "  </svg>\n",
              "    </button>\n",
              "\n",
              "  <style>\n",
              "    .colab-df-container {\n",
              "      display:flex;\n",
              "      gap: 12px;\n",
              "    }\n",
              "\n",
              "    .colab-df-convert {\n",
              "      background-color: #E8F0FE;\n",
              "      border: none;\n",
              "      border-radius: 50%;\n",
              "      cursor: pointer;\n",
              "      display: none;\n",
              "      fill: #1967D2;\n",
              "      height: 32px;\n",
              "      padding: 0 0 0 0;\n",
              "      width: 32px;\n",
              "    }\n",
              "\n",
              "    .colab-df-convert:hover {\n",
              "      background-color: #E2EBFA;\n",
              "      box-shadow: 0px 1px 2px rgba(60, 64, 67, 0.3), 0px 1px 3px 1px rgba(60, 64, 67, 0.15);\n",
              "      fill: #174EA6;\n",
              "    }\n",
              "\n",
              "    .colab-df-buttons div {\n",
              "      margin-bottom: 4px;\n",
              "    }\n",
              "\n",
              "    [theme=dark] .colab-df-convert {\n",
              "      background-color: #3B4455;\n",
              "      fill: #D2E3FC;\n",
              "    }\n",
              "\n",
              "    [theme=dark] .colab-df-convert:hover {\n",
              "      background-color: #434B5C;\n",
              "      box-shadow: 0px 1px 3px 1px rgba(0, 0, 0, 0.15);\n",
              "      filter: drop-shadow(0px 1px 2px rgba(0, 0, 0, 0.3));\n",
              "      fill: #FFFFFF;\n",
              "    }\n",
              "  </style>\n",
              "\n",
              "    <script>\n",
              "      const buttonEl =\n",
              "        document.querySelector('#df-f043ec5c-7568-43b9-804c-e49fb078ffc8 button.colab-df-convert');\n",
              "      buttonEl.style.display =\n",
              "        google.colab.kernel.accessAllowed ? 'block' : 'none';\n",
              "\n",
              "      async function convertToInteractive(key) {\n",
              "        const element = document.querySelector('#df-f043ec5c-7568-43b9-804c-e49fb078ffc8');\n",
              "        const dataTable =\n",
              "          await google.colab.kernel.invokeFunction('convertToInteractive',\n",
              "                                                    [key], {});\n",
              "        if (!dataTable) return;\n",
              "\n",
              "        const docLinkHtml = 'Like what you see? Visit the ' +\n",
              "          '<a target=\"_blank\" href=https://colab.research.google.com/notebooks/data_table.ipynb>data table notebook</a>'\n",
              "          + ' to learn more about interactive tables.';\n",
              "        element.innerHTML = '';\n",
              "        dataTable['output_type'] = 'display_data';\n",
              "        await google.colab.output.renderOutput(dataTable, element);\n",
              "        const docLink = document.createElement('div');\n",
              "        docLink.innerHTML = docLinkHtml;\n",
              "        element.appendChild(docLink);\n",
              "      }\n",
              "    </script>\n",
              "  </div>\n",
              "\n",
              "\n",
              "<div id=\"df-8866b89c-9bd7-48e2-914c-2bfdc062ed27\">\n",
              "  <button class=\"colab-df-quickchart\" onclick=\"quickchart('df-8866b89c-9bd7-48e2-914c-2bfdc062ed27')\"\n",
              "            title=\"Suggest charts\"\n",
              "            style=\"display:none;\">\n",
              "\n",
              "<svg xmlns=\"http://www.w3.org/2000/svg\" height=\"24px\"viewBox=\"0 0 24 24\"\n",
              "     width=\"24px\">\n",
              "    <g>\n",
              "        <path d=\"M19 3H5c-1.1 0-2 .9-2 2v14c0 1.1.9 2 2 2h14c1.1 0 2-.9 2-2V5c0-1.1-.9-2-2-2zM9 17H7v-7h2v7zm4 0h-2V7h2v10zm4 0h-2v-4h2v4z\"/>\n",
              "    </g>\n",
              "</svg>\n",
              "  </button>\n",
              "\n",
              "<style>\n",
              "  .colab-df-quickchart {\n",
              "      --bg-color: #E8F0FE;\n",
              "      --fill-color: #1967D2;\n",
              "      --hover-bg-color: #E2EBFA;\n",
              "      --hover-fill-color: #174EA6;\n",
              "      --disabled-fill-color: #AAA;\n",
              "      --disabled-bg-color: #DDD;\n",
              "  }\n",
              "\n",
              "  [theme=dark] .colab-df-quickchart {\n",
              "      --bg-color: #3B4455;\n",
              "      --fill-color: #D2E3FC;\n",
              "      --hover-bg-color: #434B5C;\n",
              "      --hover-fill-color: #FFFFFF;\n",
              "      --disabled-bg-color: #3B4455;\n",
              "      --disabled-fill-color: #666;\n",
              "  }\n",
              "\n",
              "  .colab-df-quickchart {\n",
              "    background-color: var(--bg-color);\n",
              "    border: none;\n",
              "    border-radius: 50%;\n",
              "    cursor: pointer;\n",
              "    display: none;\n",
              "    fill: var(--fill-color);\n",
              "    height: 32px;\n",
              "    padding: 0;\n",
              "    width: 32px;\n",
              "  }\n",
              "\n",
              "  .colab-df-quickchart:hover {\n",
              "    background-color: var(--hover-bg-color);\n",
              "    box-shadow: 0 1px 2px rgba(60, 64, 67, 0.3), 0 1px 3px 1px rgba(60, 64, 67, 0.15);\n",
              "    fill: var(--button-hover-fill-color);\n",
              "  }\n",
              "\n",
              "  .colab-df-quickchart-complete:disabled,\n",
              "  .colab-df-quickchart-complete:disabled:hover {\n",
              "    background-color: var(--disabled-bg-color);\n",
              "    fill: var(--disabled-fill-color);\n",
              "    box-shadow: none;\n",
              "  }\n",
              "\n",
              "  .colab-df-spinner {\n",
              "    border: 2px solid var(--fill-color);\n",
              "    border-color: transparent;\n",
              "    border-bottom-color: var(--fill-color);\n",
              "    animation:\n",
              "      spin 1s steps(1) infinite;\n",
              "  }\n",
              "\n",
              "  @keyframes spin {\n",
              "    0% {\n",
              "      border-color: transparent;\n",
              "      border-bottom-color: var(--fill-color);\n",
              "      border-left-color: var(--fill-color);\n",
              "    }\n",
              "    20% {\n",
              "      border-color: transparent;\n",
              "      border-left-color: var(--fill-color);\n",
              "      border-top-color: var(--fill-color);\n",
              "    }\n",
              "    30% {\n",
              "      border-color: transparent;\n",
              "      border-left-color: var(--fill-color);\n",
              "      border-top-color: var(--fill-color);\n",
              "      border-right-color: var(--fill-color);\n",
              "    }\n",
              "    40% {\n",
              "      border-color: transparent;\n",
              "      border-right-color: var(--fill-color);\n",
              "      border-top-color: var(--fill-color);\n",
              "    }\n",
              "    60% {\n",
              "      border-color: transparent;\n",
              "      border-right-color: var(--fill-color);\n",
              "    }\n",
              "    80% {\n",
              "      border-color: transparent;\n",
              "      border-right-color: var(--fill-color);\n",
              "      border-bottom-color: var(--fill-color);\n",
              "    }\n",
              "    90% {\n",
              "      border-color: transparent;\n",
              "      border-bottom-color: var(--fill-color);\n",
              "    }\n",
              "  }\n",
              "</style>\n",
              "\n",
              "  <script>\n",
              "    async function quickchart(key) {\n",
              "      const quickchartButtonEl =\n",
              "        document.querySelector('#' + key + ' button');\n",
              "      quickchartButtonEl.disabled = true;  // To prevent multiple clicks.\n",
              "      quickchartButtonEl.classList.add('colab-df-spinner');\n",
              "      try {\n",
              "        const charts = await google.colab.kernel.invokeFunction(\n",
              "            'suggestCharts', [key], {});\n",
              "      } catch (error) {\n",
              "        console.error('Error during call to suggestCharts:', error);\n",
              "      }\n",
              "      quickchartButtonEl.classList.remove('colab-df-spinner');\n",
              "      quickchartButtonEl.classList.add('colab-df-quickchart-complete');\n",
              "    }\n",
              "    (() => {\n",
              "      let quickchartButtonEl =\n",
              "        document.querySelector('#df-8866b89c-9bd7-48e2-914c-2bfdc062ed27 button');\n",
              "      quickchartButtonEl.style.display =\n",
              "        google.colab.kernel.accessAllowed ? 'block' : 'none';\n",
              "    })();\n",
              "  </script>\n",
              "</div>\n",
              "    </div>\n",
              "  </div>\n"
            ],
            "application/vnd.google.colaboratory.intrinsic+json": {
              "type": "dataframe",
              "variable_name": "data",
              "summary": "{\n  \"name\": \"data\",\n  \"rows\": 40455,\n  \"fields\": [\n    {\n      \"column\": \"image\",\n      \"properties\": {\n        \"dtype\": \"category\",\n        \"num_unique_values\": 8091,\n        \"samples\": [\n          \"3139895886_5a6d495b13.jpg\",\n          \"3133825703_359a0c414d.jpg\",\n          \"244910177_7c4ec3f65b.jpg\"\n        ],\n        \"semantic_type\": \"\",\n        \"description\": \"\"\n      }\n    },\n    {\n      \"column\": \"caption\",\n      \"properties\": {\n        \"dtype\": \"string\",\n        \"num_unique_values\": 40201,\n        \"samples\": [\n          \"A girl plays T-ball .\",\n          \"A woman in riding attire rides a jumping horse .\",\n          \"A brown dog wearing a pink shirt is followed by a brown dog wearing a yellow shirt .\"\n        ],\n        \"semantic_type\": \"\",\n        \"description\": \"\"\n      }\n    }\n  ]\n}"
            }
          },
          "metadata": {},
          "execution_count": 3
        }
      ]
    },
    {
      "cell_type": "code",
      "source": [
        "def readImage(path,img_size=224):\n",
        "    img = load_img(path,color_mode='rgb',target_size=(img_size,img_size))\n",
        "    img = img_to_array(img)\n",
        "    img = img/255.\n",
        "\n",
        "    return img\n",
        "\n",
        "def display_images(temp_df):\n",
        "    temp_df = temp_df.reset_index(drop=True)\n",
        "    plt.figure(figsize = (20 , 20))\n",
        "    n = 0\n",
        "    for i in range(15):\n",
        "        n+=1\n",
        "        plt.subplot(5 , 5, n)\n",
        "        plt.subplots_adjust(hspace = 0.7, wspace = 0.3)\n",
        "        image = readImage(f\"../input/flickr8k/Images/{temp_df.image[i]}\")\n",
        "        plt.imshow(image)\n",
        "        plt.title(\"\\n\".join(wrap(temp_df.caption[i], 20)))\n",
        "        plt.axis(\"off\")"
      ],
      "metadata": {
        "execution": {
          "iopub.status.busy": "2022-08-23T11:23:27.968619Z",
          "iopub.execute_input": "2022-08-23T11:23:27.969054Z",
          "iopub.status.idle": "2022-08-23T11:23:27.976892Z",
          "shell.execute_reply.started": "2022-08-23T11:23:27.969018Z",
          "shell.execute_reply": "2022-08-23T11:23:27.975608Z"
        },
        "trusted": true,
        "id": "5pfu2qiG38a4"
      },
      "execution_count": 4,
      "outputs": []
    },
    {
      "cell_type": "markdown",
      "source": [
        "# **Visualization**\n",
        "- Images and their corresponding captions"
      ],
      "metadata": {
        "id": "HZyLKL8R38a4"
      }
    },
    {
      "cell_type": "code",
      "source": [
        "display_images(data.sample(15))"
      ],
      "metadata": {
        "execution": {
          "iopub.status.busy": "2022-08-23T11:23:27.978551Z",
          "iopub.execute_input": "2022-08-23T11:23:27.978905Z",
          "iopub.status.idle": "2022-08-23T11:23:29.509999Z",
          "shell.execute_reply.started": "2022-08-23T11:23:27.978871Z",
          "shell.execute_reply": "2022-08-23T11:23:29.505799Z"
        },
        "trusted": true,
        "id": "LmvDAraZ38a4"
      },
      "execution_count": null,
      "outputs": []
    },
    {
      "cell_type": "markdown",
      "source": [
        "# **Caption Text Preprocessing Steps**\n",
        "- Convert sentences into lowercase\n",
        "- Remove special characters and numbers present in the text\n",
        "- Remove extra spaces\n",
        "- Remove single characters\n",
        "- Add a starting and an ending tag to the sentences to indicate the beginning and the ending of a sentence\n",
        "\n",
        "<img src='http://zjpnrm2br14wspo448nls17u-wpengine.netdna-ssl.com/wp-content/uploads/2020/09/processing-steps.png' >"
      ],
      "metadata": {
        "id": "Q5-xgRFL38a4"
      }
    },
    {
      "cell_type": "code",
      "source": [
        "def text_preprocessing(data):\n",
        "    data['caption'] = data['caption'].apply(lambda x: x.lower())\n",
        "    data['caption'] = data['caption'].apply(lambda x: x.replace(\"[^A-Za-z]\",\"\"))\n",
        "    data['caption'] = data['caption'].apply(lambda x: x.replace(\"\\s+\",\" \"))\n",
        "    data['caption'] = data['caption'].apply(lambda x: \" \".join([word for word in x.split() if len(word)>1]))\n",
        "    data['caption'] = \"startseq \"+data['caption']+\" endseq\"\n",
        "    return data"
      ],
      "metadata": {
        "execution": {
          "iopub.status.busy": "2022-08-23T11:23:33.882355Z",
          "iopub.execute_input": "2022-08-23T11:23:33.883049Z",
          "iopub.status.idle": "2022-08-23T11:23:33.889484Z",
          "shell.execute_reply.started": "2022-08-23T11:23:33.883014Z",
          "shell.execute_reply": "2022-08-23T11:23:33.888501Z"
        },
        "trusted": true,
        "id": "XAGDfM4c38a4"
      },
      "execution_count": 5,
      "outputs": []
    },
    {
      "cell_type": "markdown",
      "source": [
        "## __Preprocessed Text__"
      ],
      "metadata": {
        "id": "HFsDPkpT38a4"
      }
    },
    {
      "cell_type": "code",
      "source": [
        "data = text_preprocessing(data)\n",
        "captions = data['caption'].tolist()\n",
        "captions[:10]"
      ],
      "metadata": {
        "execution": {
          "iopub.status.busy": "2022-08-23T11:25:32.612283Z",
          "iopub.execute_input": "2022-08-23T11:25:32.612695Z",
          "iopub.status.idle": "2022-08-23T11:25:32.775701Z",
          "shell.execute_reply.started": "2022-08-23T11:25:32.612663Z",
          "shell.execute_reply": "2022-08-23T11:25:32.774736Z"
        },
        "trusted": true,
        "colab": {
          "base_uri": "https://localhost:8080/"
        },
        "id": "VoPNS45P38a4",
        "outputId": "fc6b7cda-75c9-44ba-f393-cef99c3174c9"
      },
      "execution_count": 6,
      "outputs": [
        {
          "output_type": "execute_result",
          "data": {
            "text/plain": [
              "['startseq child in pink dress is climbing up set of stairs in an entry way endseq',\n",
              " 'startseq girl going into wooden building endseq',\n",
              " 'startseq little girl climbing into wooden playhouse endseq',\n",
              " 'startseq little girl climbing the stairs to her playhouse endseq',\n",
              " 'startseq little girl in pink dress going into wooden cabin endseq',\n",
              " 'startseq black dog and spotted dog are fighting endseq',\n",
              " 'startseq black dog and tri-colored dog playing with each other on the road endseq',\n",
              " 'startseq black dog and white dog with brown spots are staring at each other in the street endseq',\n",
              " 'startseq two dogs of different breeds looking at each other on the road endseq',\n",
              " 'startseq two dogs on pavement moving toward each other endseq']"
            ]
          },
          "metadata": {},
          "execution_count": 6
        }
      ]
    },
    {
      "cell_type": "markdown",
      "source": [
        "## __Tokenization and Encoded Representation__\n"
      ],
      "metadata": {
        "id": "q4ageMHr38a4"
      }
    },
    {
      "cell_type": "code",
      "source": [
        "tokenizer = Tokenizer()\n",
        "tokenizer.fit_on_texts(captions)\n",
        "vocab_size = len(tokenizer.word_index) + 1\n",
        "max_length = max(len(caption.split()) for caption in captions)\n",
        "\n",
        "images = data['image'].unique().tolist()\n",
        "nimages = len(images)\n",
        "\n",
        "split_index = round(0.85*nimages)\n",
        "train_images = images[:split_index]\n",
        "val_images = images[split_index:]\n",
        "\n",
        "train = data[data['image'].isin(train_images)]\n",
        "test = data[data['image'].isin(val_images)]\n",
        "\n",
        "train.reset_index(inplace=True,drop=True)\n",
        "test.reset_index(inplace=True,drop=True)\n",
        "\n",
        "tokenizer.texts_to_sequences([captions[1]])[0]"
      ],
      "metadata": {
        "execution": {
          "iopub.status.busy": "2022-08-23T11:25:33.019345Z",
          "iopub.execute_input": "2022-08-23T11:25:33.020096Z",
          "iopub.status.idle": "2022-08-23T11:25:33.712285Z",
          "shell.execute_reply.started": "2022-08-23T11:25:33.020062Z",
          "shell.execute_reply": "2022-08-23T11:25:33.711513Z"
        },
        "trusted": true,
        "colab": {
          "base_uri": "https://localhost:8080/"
        },
        "id": "Gyshfjmm38a4",
        "outputId": "aff69426-ad21-4775-a975-2e7c567a5968"
      },
      "execution_count": 7,
      "outputs": [
        {
          "output_type": "execute_result",
          "data": {
            "text/plain": [
              "[1, 18, 315, 63, 195, 116, 2]"
            ]
          },
          "metadata": {},
          "execution_count": 7
        }
      ]
    },
    {
      "cell_type": "markdown",
      "source": [
        "# **Image Feature Extraction**\n"
      ],
      "metadata": {
        "id": "mYDYjuJD38a4"
      }
    },
    {
      "cell_type": "code",
      "source": [
        "import pickle\n",
        "model = DenseNet201()\n",
        "fe = Model(inputs=model.input, outputs=model.layers[-2].output)\n",
        "\n",
        "img_size = 224\n",
        "features = {}\n",
        "for image in tqdm(data['image'].unique().tolist()):\n",
        "    img = load_img(os.path.join(image_path,image),target_size=(img_size,img_size))\n",
        "    img = img_to_array(img)\n",
        "    img = img/255.\n",
        "    img = np.expand_dims(img,axis=0)\n",
        "    feature = fe.predict(img, verbose=0)\n",
        "    features[image] = feature\n",
        "\n",
        "features_path = '/content/drive/MyDrive/IR_project/flickr8k/image_features.pkl'\n",
        "\n",
        "# Save features to a file\n",
        "with open(features_path, 'wb') as file:\n",
        "    pickle.dump(features, file)"
      ],
      "metadata": {
        "execution": {
          "iopub.status.busy": "2022-08-23T11:25:42.774961Z",
          "iopub.execute_input": "2022-08-23T11:25:42.775320Z",
          "iopub.status.idle": "2022-08-23T11:36:27.403085Z",
          "shell.execute_reply.started": "2022-08-23T11:25:42.775290Z",
          "shell.execute_reply": "2022-08-23T11:36:27.402258Z"
        },
        "trusted": true,
        "colab": {
          "base_uri": "https://localhost:8080/"
        },
        "id": "gXu_EGHL38a5",
        "outputId": "b9d52c1e-605f-47e8-cbaf-9d05fa360795"
      },
      "execution_count": null,
      "outputs": [
        {
          "output_type": "stream",
          "name": "stderr",
          "text": [
            "100%|██████████| 8091/8091 [49:25<00:00,  2.73it/s]\n"
          ]
        }
      ]
    },
    {
      "cell_type": "markdown",
      "source": [
        "# **Data Generation**\n",
        "- Since Image Caption model training like any other neural network training is a highly resource utillizing process we cannot load the data into the main memory all at once, and hence we need to generate the data in the required format batch wise\n",
        "- The inputs will be the image embeddings and their corresonding caption text embeddings for the training process\n",
        "- The text embeddings are passed word by word for the caption generation during inference time"
      ],
      "metadata": {
        "id": "Vw7YIn5z38a5"
      }
    },
    {
      "cell_type": "code",
      "source": [
        "from tensorflow.keras.utils import Sequence, to_categorical\n",
        "import numpy as np\n",
        "import pandas as pd\n",
        "from tensorflow.keras.preprocessing.sequence import pad_sequences\n",
        "\n",
        "\n",
        "class CustomDataGenerator(Sequence):\n",
        "    def __init__(self, df, features, tokenizer, batch_size, vocab_size, max_length, shuffle=True):\n",
        "        self.df = df.copy()\n",
        "        self.features = features\n",
        "        self.tokenizer = tokenizer\n",
        "        self.batch_size = batch_size\n",
        "        self.vocab_size = vocab_size\n",
        "        self.max_length = max_length\n",
        "        self.shuffle = shuffle\n",
        "        self.indices = np.arange(len(self.df))\n",
        "        if shuffle:\n",
        "            np.random.shuffle(self.indices)\n",
        "\n",
        "    def __len__(self):\n",
        "        return int(np.floor(len(self.df) / self.batch_size))\n",
        "\n",
        "    def on_epoch_end(self):\n",
        "        if self.shuffle:\n",
        "            np.random.shuffle(self.indices)\n",
        "\n",
        "    def __getitem__(self, index):\n",
        "        indices = self.indices[index*self.batch_size:(index+1)*self.batch_size]\n",
        "        batch = self.df.iloc[indices]\n",
        "        X1, X2, y = [], [], []\n",
        "        for _, row in batch.iterrows():\n",
        "            image_id, caption = row['image'], row['caption']\n",
        "            feature = self.features[image_id][0]\n",
        "            seq = self.tokenizer.texts_to_sequences([caption])[0]\n",
        "            for i in range(1, len(seq)):\n",
        "                in_seq, out_seq = seq[:i], seq[i]\n",
        "                in_seq = pad_sequences([in_seq], maxlen=self.max_length)[0]\n",
        "                out_seq = np.zeros((self.vocab_size,))\n",
        "                out_seq[out_seq] = 1\n",
        "                X1.append(feature)\n",
        "                X2.append(in_seq)\n",
        "                y.append(out_seq)\n",
        "        return [np.array(X1), np.array(X2)], np.array(y)\n"
      ],
      "metadata": {
        "execution": {
          "iopub.status.busy": "2022-08-23T11:37:08.818593Z",
          "iopub.execute_input": "2022-08-23T11:37:08.818967Z",
          "iopub.status.idle": "2022-08-23T11:37:08.831291Z",
          "shell.execute_reply.started": "2022-08-23T11:37:08.818929Z",
          "shell.execute_reply": "2022-08-23T11:37:08.830339Z"
        },
        "trusted": true,
        "id": "IP3AqVKx38a5"
      },
      "execution_count": 18,
      "outputs": []
    },
    {
      "cell_type": "markdown",
      "source": [
        "# **Modelling**\n",
        "- The image embedding representations are concatenated with the first word of sentence ie. starseq and passed to the LSTM network\n",
        "- The LSTM network starts generating words after each input thus forming a sentence at the end"
      ],
      "metadata": {
        "id": "smBknc5J38a5"
      }
    },
    {
      "cell_type": "code",
      "source": [
        "from tensorflow.keras.models import Model\n",
        "from tensorflow.keras.layers import Input, Dense, Embedding, GRU, Dropout\n",
        "from tensorflow.keras.callbacks import ModelCheckpoint, EarlyStopping, ReduceLROnPlateau\n",
        "from tensorflow.keras.optimizers import SGD\n",
        "from tensorflow.keras.utils import Sequence, to_categorical\n",
        "from tensorflow.keras.preprocessing.sequence import pad_sequences\n",
        "import numpy as np\n",
        "import pickle\n",
        "\n",
        "# Assuming vocab_size and image_path are defined\n",
        "# Load pre-processed features\n",
        "features_path = '/content/drive/MyDrive/IR_project/flickr8k/image_features.pkl'\n",
        "with open(features_path, 'rb') as file:\n",
        "    features = pickle.load(file)\n",
        "\n",
        "# Assuming captions is a list or dictionary of all captions\n",
        "max_length = max(len(caption.split()) for caption in captions)\n",
        "\n",
        "# Model definition\n",
        "input1 = Input(shape=(1920,))  # Adjust this to match the size of your actual features\n",
        "input2 = Input(shape=(max_length,))\n",
        "\n",
        "# Continue with your model definition as before\n",
        "img_features = Dense(256, activation='relu')(input1)\n",
        "img_features = Dropout(0.5)(img_features)\n",
        "\n",
        "sentence_features = Embedding(input_dim=vocab_size, output_dim=256, mask_zero=True)(input2)\n",
        "sentence_features = GRU(128)(sentence_features)\n",
        "sentence_features = Dropout(0.5)(sentence_features)\n",
        "\n",
        "combined_features = Dense(256, activation='relu')(sentence_features)\n",
        "x = Dropout(0.5)(combined_features)\n",
        "x = Dense(128, activation='relu')(x)\n",
        "output = Dense(vocab_size, activation='softmax')(x)\n",
        "\n",
        "caption_model = Model(inputs=[input1, input2], outputs=output)\n",
        "caption_model.compile(loss='categorical_crossentropy', optimizer='adam', metrics=['accuracy'])"
      ],
      "metadata": {
        "execution": {
          "iopub.status.busy": "2022-08-23T11:37:09.708506Z",
          "iopub.execute_input": "2022-08-23T11:37:09.708941Z",
          "iopub.status.idle": "2022-08-23T11:37:10.019559Z",
          "shell.execute_reply.started": "2022-08-23T11:37:09.708906Z",
          "shell.execute_reply": "2022-08-23T11:37:10.018731Z"
        },
        "trusted": true,
        "id": "-s_1FXQz38a5"
      },
      "execution_count": 9,
      "outputs": []
    },
    {
      "cell_type": "code",
      "source": [
        "from tensorflow.keras.utils import plot_model"
      ],
      "metadata": {
        "execution": {
          "iopub.status.busy": "2022-08-23T11:37:10.268454Z",
          "iopub.execute_input": "2022-08-23T11:37:10.268931Z",
          "iopub.status.idle": "2022-08-23T11:37:10.276297Z",
          "shell.execute_reply.started": "2022-08-23T11:37:10.268887Z",
          "shell.execute_reply": "2022-08-23T11:37:10.275242Z"
        },
        "trusted": true,
        "id": "8mCEG-LT38a5"
      },
      "execution_count": null,
      "outputs": []
    },
    {
      "cell_type": "markdown",
      "source": [
        "## **Model Modification**\n",
        "- A slight change has been made in the original model architecture to push the performance. The image feature embeddings are added to the output of the LSTMs and then passed on to the fully connected layers\n",
        "- This slightly improves the performance of the model orignally proposed back in 2014: __Show and Tell: A Neural Image Caption Generator__ (https://arxiv.org/pdf/1411.4555.pdf)"
      ],
      "metadata": {
        "id": "hZkIV9Ci38a5"
      }
    },
    {
      "cell_type": "code",
      "source": [
        "plot_model(caption_model)"
      ],
      "metadata": {
        "execution": {
          "iopub.status.busy": "2022-08-23T11:37:10.652060Z",
          "iopub.execute_input": "2022-08-23T11:37:10.652445Z",
          "iopub.status.idle": "2022-08-23T11:37:11.776979Z",
          "shell.execute_reply.started": "2022-08-23T11:37:10.652407Z",
          "shell.execute_reply": "2022-08-23T11:37:11.775955Z"
        },
        "trusted": true,
        "id": "jKMhkYDw38a5"
      },
      "execution_count": null,
      "outputs": []
    },
    {
      "cell_type": "code",
      "source": [
        "caption_model.summary()"
      ],
      "metadata": {
        "execution": {
          "iopub.status.busy": "2022-08-23T11:37:11.779356Z",
          "iopub.execute_input": "2022-08-23T11:37:11.779788Z",
          "iopub.status.idle": "2022-08-23T11:37:11.787882Z",
          "shell.execute_reply.started": "2022-08-23T11:37:11.779746Z",
          "shell.execute_reply": "2022-08-23T11:37:11.787103Z"
        },
        "trusted": true,
        "id": "BkEl5ocO38a5"
      },
      "execution_count": null,
      "outputs": []
    },
    {
      "cell_type": "code",
      "source": [
        "from tensorflow.keras.preprocessing.text import Tokenizer\n",
        "from sklearn.model_selection import train_test_split\n",
        "\n",
        "# Assuming 'data' is your DataFrame and 'captions' is a list of all captions\n",
        "tokenizer = Tokenizer()\n",
        "tokenizer.fit_on_texts(captions)\n",
        "vocab_size = len(tokenizer.word_index) + 1\n",
        "max_length = max(len(caption.split()) for caption in captions)\n",
        "\n",
        "images = data['image'].unique().tolist()\n",
        "nimages = len(images)\n",
        "\n",
        "# Instead of using a percentage, explicitly select 1500 for training and the rest for validation/testing\n",
        "train_images, val_images = train_test_split(images, train_size=1500, test_size=100, random_state=42)\n",
        "\n",
        "train = data[data['image'].isin(train_images)]\n",
        "test = data[data['image'].isin(val_images)]\n",
        "\n",
        "train.reset_index(inplace=True, drop=True)\n",
        "test.reset_index(inplace=True, drop=True)\n",
        "\n",
        "# Make sure to adjust the features dictionary\n",
        "with open(features_path, 'rb') as file:\n",
        "    all_features = pickle.load(file)\n",
        "\n",
        "# Filter the features to include only those in the train and test sets\n",
        "train_features = {img: all_features[img] for img in train_images if img in all_features}\n",
        "test_features = {img: all_features[img] for img in val_images if img in all_features}\n",
        "\n",
        "# Now initialize your data generators with the filtered features and adjusted datasets\n",
        "train_generator = CustomDataGenerator(df=train, X_col='image', y_col='caption', batch_size=32, directory=image_path,\n",
        "                                      tokenizer=tokenizer, vocab_size=vocab_size, max_length=max_length, features=train_features)\n",
        "\n",
        "validation_generator = CustomDataGenerator(df=test, X_col='image', y_col='caption', batch_size=32, directory=image_path,\n",
        "                                           tokenizer=tokenizer, vocab_size=vocab_size, max_length=max_length, features=test_features)\n",
        "\n"
      ],
      "metadata": {
        "execution": {
          "iopub.status.busy": "2022-08-23T11:37:11.854997Z",
          "iopub.execute_input": "2022-08-23T11:37:11.855484Z",
          "iopub.status.idle": "2022-08-23T11:37:11.865903Z",
          "shell.execute_reply.started": "2022-08-23T11:37:11.855450Z",
          "shell.execute_reply": "2022-08-23T11:37:11.864905Z"
        },
        "trusted": true,
        "id": "uaByrB5h38a5"
      },
      "execution_count": 10,
      "outputs": []
    },
    {
      "cell_type": "code",
      "source": [
        "model_name = \"model_optimized_new.h5\"\n",
        "checkpoint = ModelCheckpoint(model_name, monitor=\"val_loss\", mode=\"min\", save_best_only = True, verbose=1)\n",
        "earlystopping = EarlyStopping(monitor='val_loss', min_delta = 0, patience = 5, verbose = 1, restore_best_weights=True)\n",
        "learning_rate_reduction = ReduceLROnPlateau(monitor='val_loss', patience=3, verbose=1, factor=0.2, min_lr=0.00000001)\n"
      ],
      "metadata": {
        "execution": {
          "iopub.status.busy": "2022-08-23T11:37:12.583779Z",
          "iopub.execute_input": "2022-08-23T11:37:12.584292Z",
          "iopub.status.idle": "2022-08-23T11:37:12.590643Z",
          "shell.execute_reply.started": "2022-08-23T11:37:12.584258Z",
          "shell.execute_reply": "2022-08-23T11:37:12.589422Z"
        },
        "trusted": true,
        "id": "VPFwmtP638a5"
      },
      "execution_count": 11,
      "outputs": []
    },
    {
      "cell_type": "code",
      "source": [
        "history = caption_model.fit(\n",
        "    train_generator,\n",
        "    epochs=20,\n",
        "    validation_data=validation_generator,\n",
        "    callbacks=[checkpoint, earlystopping, learning_rate_reduction],\n",
        "    use_multiprocessing=True,\n",
        "    workers=8  # Adjust based on your system's capabilities\n",
        ")"
      ],
      "metadata": {
        "execution": {
          "iopub.status.busy": "2022-08-23T11:37:12.817579Z",
          "iopub.execute_input": "2022-08-23T11:37:12.817939Z",
          "iopub.status.idle": "2022-08-23T11:52:23.539818Z",
          "shell.execute_reply.started": "2022-08-23T11:37:12.817909Z",
          "shell.execute_reply": "2022-08-23T11:52:23.538896Z"
        },
        "trusted": true,
        "colab": {
          "base_uri": "https://localhost:8080/"
        },
        "id": "v6Y0ls1I38a5",
        "outputId": "338bdc0e-86a3-4285-c8f1-eb281dcc65b6"
      },
      "execution_count": 12,
      "outputs": [
        {
          "output_type": "stream",
          "name": "stdout",
          "text": [
            "Epoch 1/20\n",
            "234/234 [==============================] - ETA: 0s - loss: 6.0919 - accuracy: 0.0982\n",
            "Epoch 1: val_loss improved from inf to 5.44795, saving model to model_optimized_new.h5\n",
            "234/234 [==============================] - 680s 3s/step - loss: 6.0919 - accuracy: 0.0982 - val_loss: 5.4480 - val_accuracy: 0.1297 - lr: 0.0010\n",
            "Epoch 2/20\n",
            "234/234 [==============================] - ETA: 0s - loss: 5.1208 - accuracy: 0.1580\n",
            "Epoch 2: val_loss improved from 5.44795 to 4.86301, saving model to model_optimized_new.h5\n",
            "234/234 [==============================] - 146s 611ms/step - loss: 5.1208 - accuracy: 0.1580 - val_loss: 4.8630 - val_accuracy: 0.1992 - lr: 0.0010\n",
            "Epoch 3/20\n",
            "234/234 [==============================] - ETA: 0s - loss: 4.6999 - accuracy: 0.1963\n",
            "Epoch 3: val_loss improved from 4.86301 to 4.68548, saving model to model_optimized_new.h5\n",
            "234/234 [==============================] - 149s 625ms/step - loss: 4.6999 - accuracy: 0.1963 - val_loss: 4.6855 - val_accuracy: 0.2190 - lr: 0.0010\n",
            "Epoch 4/20\n",
            "234/234 [==============================] - ETA: 0s - loss: 4.4635 - accuracy: 0.2175\n",
            "Epoch 4: val_loss improved from 4.68548 to 4.68395, saving model to model_optimized_new.h5\n",
            "234/234 [==============================] - 146s 612ms/step - loss: 4.4635 - accuracy: 0.2175 - val_loss: 4.6839 - val_accuracy: 0.2268 - lr: 0.0010\n",
            "Epoch 5/20\n",
            "234/234 [==============================] - ETA: 0s - loss: 4.3019 - accuracy: 0.2333\n",
            "Epoch 5: val_loss improved from 4.68395 to 4.64049, saving model to model_optimized_new.h5\n",
            "234/234 [==============================] - 167s 705ms/step - loss: 4.3019 - accuracy: 0.2333 - val_loss: 4.6405 - val_accuracy: 0.2353 - lr: 0.0010\n",
            "Epoch 6/20\n",
            "234/234 [==============================] - ETA: 0s - loss: 4.1700 - accuracy: 0.2440\n",
            "Epoch 6: val_loss improved from 4.64049 to 4.45950, saving model to model_optimized_new.h5\n",
            "234/234 [==============================] - 150s 633ms/step - loss: 4.1700 - accuracy: 0.2440 - val_loss: 4.4595 - val_accuracy: 0.2437 - lr: 0.0010\n",
            "Epoch 7/20\n",
            "234/234 [==============================] - ETA: 0s - loss: 4.0589 - accuracy: 0.2519\n",
            "Epoch 7: val_loss did not improve from 4.45950\n",
            "234/234 [==============================] - 145s 611ms/step - loss: 4.0589 - accuracy: 0.2519 - val_loss: 4.4812 - val_accuracy: 0.2476 - lr: 0.0010\n",
            "Epoch 8/20\n",
            "234/234 [==============================] - ETA: 0s - loss: 3.9663 - accuracy: 0.2580\n",
            "Epoch 8: val_loss did not improve from 4.45950\n",
            "234/234 [==============================] - 154s 651ms/step - loss: 3.9663 - accuracy: 0.2580 - val_loss: 4.5058 - val_accuracy: 0.2498 - lr: 0.0010\n",
            "Epoch 9/20\n",
            "234/234 [==============================] - ETA: 0s - loss: 3.8902 - accuracy: 0.2632\n",
            "Epoch 9: val_loss improved from 4.45950 to 4.40570, saving model to model_optimized_new.h5\n",
            "234/234 [==============================] - 150s 628ms/step - loss: 3.8902 - accuracy: 0.2632 - val_loss: 4.4057 - val_accuracy: 0.2598 - lr: 0.0010\n",
            "Epoch 10/20\n",
            "234/234 [==============================] - ETA: 0s - loss: 3.8148 - accuracy: 0.2689\n",
            "Epoch 10: val_loss did not improve from 4.40570\n",
            "234/234 [==============================] - 148s 621ms/step - loss: 3.8148 - accuracy: 0.2689 - val_loss: 4.5820 - val_accuracy: 0.2528 - lr: 0.0010\n",
            "Epoch 11/20\n",
            "234/234 [==============================] - ETA: 0s - loss: 3.7543 - accuracy: 0.2710\n",
            "Epoch 11: val_loss did not improve from 4.40570\n",
            "234/234 [==============================] - 145s 610ms/step - loss: 3.7543 - accuracy: 0.2710 - val_loss: 4.5011 - val_accuracy: 0.2584 - lr: 0.0010\n",
            "Epoch 12/20\n",
            "234/234 [==============================] - ETA: 0s - loss: 3.7005 - accuracy: 0.2752\n",
            "Epoch 12: val_loss did not improve from 4.40570\n",
            "\n",
            "Epoch 12: ReduceLROnPlateau reducing learning rate to 0.00020000000949949026.\n",
            "234/234 [==============================] - 146s 615ms/step - loss: 3.7005 - accuracy: 0.2752 - val_loss: 4.5991 - val_accuracy: 0.2587 - lr: 0.0010\n",
            "Epoch 13/20\n",
            "234/234 [==============================] - ETA: 0s - loss: 3.5721 - accuracy: 0.2840\n",
            "Epoch 13: val_loss did not improve from 4.40570\n",
            "234/234 [==============================] - 154s 650ms/step - loss: 3.5721 - accuracy: 0.2840 - val_loss: 4.5941 - val_accuracy: 0.2676 - lr: 2.0000e-04\n",
            "Epoch 14/20\n",
            "234/234 [==============================] - ETA: 0s - loss: 3.5322 - accuracy: 0.2873\n",
            "Epoch 14: val_loss did not improve from 4.40570\n",
            "Restoring model weights from the end of the best epoch: 9.\n",
            "234/234 [==============================] - 149s 631ms/step - loss: 3.5322 - accuracy: 0.2873 - val_loss: 4.5892 - val_accuracy: 0.2613 - lr: 2.0000e-04\n",
            "Epoch 14: early stopping\n"
          ]
        }
      ]
    },
    {
      "cell_type": "code",
      "source": [],
      "metadata": {
        "id": "s5QJd1IgO4JU"
      },
      "execution_count": null,
      "outputs": []
    },
    {
      "cell_type": "markdown",
      "source": [
        "# **Inference**\n",
        "- Learning Curve (Loss Curve)\n",
        "- Assessment of Generated Captions (by checking the relevance of the caption with respect to the image, BLEU Score will not be used in this kernel)"
      ],
      "metadata": {
        "id": "sdFcQnMh38a5"
      }
    },
    {
      "cell_type": "markdown",
      "source": [
        "## **Learning Curve**\n",
        "- The model has clearly overfit, possibly due to less amount of data\n",
        "- We can tackle this problem in two ways\n",
        "    1. Train the model on a larger dataset Flickr40k\n",
        "    2. Attention Models"
      ],
      "metadata": {
        "id": "_G7AcFH038a5"
      }
    },
    {
      "cell_type": "code",
      "source": [
        "plt.figure(figsize=(20,8))\n",
        "plt.plot(history.history['loss'])\n",
        "plt.plot(history.history['val_loss'])\n",
        "plt.title('model loss')\n",
        "plt.ylabel('loss')\n",
        "plt.xlabel('epoch')\n",
        "plt.legend(['train', 'val'], loc='upper left')\n",
        "plt.show()"
      ],
      "metadata": {
        "execution": {
          "iopub.status.busy": "2022-08-23T11:52:36.643783Z",
          "iopub.execute_input": "2022-08-23T11:52:36.644163Z",
          "iopub.status.idle": "2022-08-23T11:52:54.616968Z",
          "shell.execute_reply.started": "2022-08-23T11:52:36.644131Z",
          "shell.execute_reply": "2022-08-23T11:52:54.616186Z"
        },
        "trusted": true,
        "colab": {
          "base_uri": "https://localhost:8080/",
          "height": 600
        },
        "id": "wcyUuGP-38a5",
        "outputId": "ee5eed02-e29d-4370-a957-1522ba8b7cc7"
      },
      "execution_count": 13,
      "outputs": [
        {
          "output_type": "display_data",
          "data": {
            "text/plain": [
              "<Figure size 2000x800 with 1 Axes>"
            ],
            "image/png": "[encoded data removed]"
          },
          "metadata": {}
        }
      ]
    },
    {
      "cell_type": "markdown",
      "source": [
        "## **Caption Generation Utility Functions**\n",
        "- Utility functions to generate the captions of input images at the inference time.\n",
        "- Here the image embeddings are passed along with the first word, followed by which the text embedding of each new word is passed to generate the next word"
      ],
      "metadata": {
        "id": "Lmc1pPVh38a6"
      }
    },
    {
      "cell_type": "code",
      "source": [
        "def idx_to_word(integer,tokenizer):\n",
        "\n",
        "    for word, index in tokenizer.word_index.items():\n",
        "        if index==integer:\n",
        "            return word\n",
        "    return None"
      ],
      "metadata": {
        "execution": {
          "iopub.status.busy": "2022-08-23T11:52:54.618668Z",
          "iopub.execute_input": "2022-08-23T11:52:54.619208Z",
          "iopub.status.idle": "2022-08-23T11:52:54.624359Z",
          "shell.execute_reply.started": "2022-08-23T11:52:54.619169Z",
          "shell.execute_reply": "2022-08-23T11:52:54.623387Z"
        },
        "trusted": true,
        "id": "o-FPEtX_38a6"
      },
      "execution_count": 14,
      "outputs": []
    },
    {
      "cell_type": "code",
      "source": [
        "import numpy as np\n",
        "from tensorflow.keras.preprocessing.sequence import pad_sequences\n",
        "from tensorflow.keras.preprocessing.image import img_to_array, load_img\n",
        "import os\n",
        "from nltk.translate.bleu_score import corpus_bleu\n",
        "import random\n",
        "\n",
        "def predict_caption(model, image, tokenizer, max_length, features):\n",
        "    # Reshape feature for the model\n",
        "    feature = features[image].reshape((1, -1))  # Use -1 to automatically adjust to the correct size\n",
        "    in_text = \"startseq\"\n",
        "    for i in range(max_length):\n",
        "        sequence = tokenizer.texts_to_sequences([in_text])[0]\n",
        "        sequence = pad_sequences([sequence], maxlen=max_length)\n",
        "        y_pred = model.predict([feature, sequence], verbose=0)\n",
        "        y_pred = np.argmax(y_pred)\n",
        "        word = tokenizer.index_word.get(y_pred, None)\n",
        "        if word is None or word == 'endseq':\n",
        "            break\n",
        "        in_text += ' ' + word\n",
        "    return in_text\n",
        "\n"
      ],
      "metadata": {
        "execution": {
          "iopub.status.busy": "2022-08-23T11:52:54.625803Z",
          "iopub.execute_input": "2022-08-23T11:52:54.626208Z",
          "iopub.status.idle": "2022-08-23T11:52:54.635105Z",
          "shell.execute_reply.started": "2022-08-23T11:52:54.626153Z",
          "shell.execute_reply": "2022-08-23T11:52:54.634224Z"
        },
        "trusted": true,
        "id": "pUj2r0kg38a6"
      },
      "execution_count": 15,
      "outputs": []
    },
    {
      "cell_type": "markdown",
      "source": [
        "## **Taking 10 Random Samples for Caption Prediction**"
      ],
      "metadata": {
        "id": "VBGX963938a6"
      }
    },
    {
      "cell_type": "code",
      "source": [
        "# Ensure 'test' is your DataFrame containing the test dataset\n",
        "samples = test.sample(n=10, random_state=42).reset_index(drop=True)\n",
        "\n",
        "actual, predicted = [], []\n",
        "for index, record in samples.iterrows():\n",
        "    # Generate caption\n",
        "    caption_pred = predict_caption(caption_model, record['image'], tokenizer, max_length, features)\n",
        "    samples.loc[index, 'predicted_caption'] = caption_pred\n",
        "\n",
        "    # Prepare actual and predicted captions for BLEU score calculation\n",
        "    actual.append([record['caption'].split()])\n",
        "    predicted.append(caption_pred.split())\n",
        "\n",
        "# Display the generated captions alongside the images\n",
        "for index, row in samples.iterrows():\n",
        "    print(f\"Image: {row['image']}, Predicted Caption: {row['predicted_caption']}\")\n"
      ],
      "metadata": {
        "execution": {
          "iopub.status.busy": "2022-08-23T11:53:17.519194Z",
          "iopub.execute_input": "2022-08-23T11:53:17.519766Z",
          "iopub.status.idle": "2022-08-23T11:53:17.528148Z",
          "shell.execute_reply.started": "2022-08-23T11:53:17.519727Z",
          "shell.execute_reply": "2022-08-23T11:53:17.526393Z"
        },
        "trusted": true,
        "colab": {
          "base_uri": "https://localhost:8080/"
        },
        "id": "wUSAFBPC38a6",
        "outputId": "d734bd9d-7cf2-4b36-d6ce-463fba278520"
      },
      "execution_count": 16,
      "outputs": [
        {
          "output_type": "stream",
          "name": "stdout",
          "text": [
            "Image: 3364160101_c5e6c52b25.jpg, Predicted Caption: startseq two people are playing in the air\n",
            "Image: 2314722788_6262c3aa40.jpg, Predicted Caption: startseq two people are playing in the air\n",
            "Image: 3373946160_1c82d54442.jpg, Predicted Caption: startseq two people are playing in the air\n",
            "Image: 278002800_3817135105.jpg, Predicted Caption: startseq two people are playing in the air\n",
            "Image: 2521770311_3086ca90de.jpg, Predicted Caption: startseq two people are playing in the air\n",
            "Image: 3443703471_14845d8850.jpg, Predicted Caption: startseq two people are playing in the air\n",
            "Image: 3396036947_0af6c3aab7.jpg, Predicted Caption: startseq two people are playing in the air\n",
            "Image: 2644916196_16f91dae54.jpg, Predicted Caption: startseq two people are playing in the air\n",
            "Image: 2271468944_3264d29208.jpg, Predicted Caption: startseq two people are playing in the air\n",
            "Image: 3700004668_99c3e3f55b.jpg, Predicted Caption: startseq two people are playing in the air\n"
          ]
        }
      ]
    },
    {
      "cell_type": "code",
      "source": [
        "print('BLEU-1: %f' % corpus_bleu(actual, predicted, weights=(1.0, 0, 0, 0)))\n",
        "print('BLEU-2: %f' % corpus_bleu(actual, predicted, weights=(0.5, 0.5, 0, 0)))\n",
        "print('BLEU-3: %f' % corpus_bleu(actual, predicted, weights=(0.33, 0.33, 0.33, 0)))\n",
        "print('BLEU-4: %f' % corpus_bleu(actual, predicted, weights=(0.25, 0.25, 0.25, 0.25)))\n"
      ],
      "metadata": {
        "execution": {
          "iopub.status.busy": "2022-08-23T11:53:47.559188Z",
          "iopub.execute_input": "2022-08-23T11:53:47.559724Z",
          "iopub.status.idle": "2022-08-23T11:53:54.421752Z",
          "shell.execute_reply.started": "2022-08-23T11:53:47.559692Z",
          "shell.execute_reply": "2022-08-23T11:53:54.420902Z"
        },
        "trusted": true,
        "colab": {
          "base_uri": "https://localhost:8080/"
        },
        "id": "75z205Q338a6",
        "outputId": "3a046aef-96ad-4384-ac72-83ee4650879f"
      },
      "execution_count": 17,
      "outputs": [
        {
          "output_type": "stream",
          "name": "stdout",
          "text": [
            "BLEU-1: 0.168781\n",
            "BLEU-2: 0.060145\n",
            "BLEU-3: 0.000000\n",
            "BLEU-4: 0.000000\n"
          ]
        }
      ]
    },
    {
      "cell_type": "markdown",
      "source": [
        "# **Results**\n",
        "- As we can clearly see there is some redundant caption generation e.g. Dog running through the water, overusage of blue shirt for any other coloured cloth\n",
        "- The model performance can be further improved by training on more data and using attention mechanism so that our model can focus on relevant areas during the text generation\n",
        "- We can also leverage the interprettability of the attention mechanism to understand which areas of the image leads to the generation of which word"
      ],
      "metadata": {
        "id": "C1IwvmMr38a6"
      }
    },
    {
      "cell_type": "code",
      "source": [
        "display_images(samples)"
      ],
      "metadata": {
        "execution": {
          "iopub.status.busy": "2022-08-23T11:53:56.391394Z",
          "iopub.execute_input": "2022-08-23T11:53:56.391764Z",
          "iopub.status.idle": "2022-08-23T11:53:57.852139Z",
          "shell.execute_reply.started": "2022-08-23T11:53:56.391734Z",
          "shell.execute_reply": "2022-08-23T11:53:57.851198Z"
        },
        "trusted": true,
        "id": "xufyAxkf38bH"
      },
      "execution_count": null,
      "outputs": []
    },
    {
      "cell_type": "markdown",
      "source": [
        "<p style='font-size: 18px'><strong>Conclusion: </strong>This may not be the best performing model, but the objective of this kernel is to give a gist of how Image Captioning problems can be approached. In the future work of this kernel <strong>Attention model</strong> training and <strong>BLEU Score</strong> assessment will be performed.</p>"
      ],
      "metadata": {
        "id": "JLkKqQfx38bH"
      }
    }
  ]
}